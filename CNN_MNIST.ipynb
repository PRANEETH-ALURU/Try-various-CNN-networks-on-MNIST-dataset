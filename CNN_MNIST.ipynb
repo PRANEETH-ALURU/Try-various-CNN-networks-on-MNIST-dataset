{
  "nbformat": 4,
  "nbformat_minor": 0,
  "metadata": {
    "colab": {
      "name": "CNN_MNIST.ipynb",
      "provenance": [],
      "collapsed_sections": []
    },
    "kernelspec": {
      "name": "python3",
      "display_name": "Python 3"
    }
  },
  "cells": [
    {
      "cell_type": "code",
      "metadata": {
        "id": "8SPdmBOf91Ol",
        "colab_type": "code",
        "colab": {}
      },
      "source": [
        ""
      ],
      "execution_count": 0,
      "outputs": []
    },
    {
      "cell_type": "code",
      "metadata": {
        "id": "2UILABPAQKbH",
        "colab_type": "code",
        "outputId": "7aa08381-d51e-41a9-a8d7-d5cb2379b7f0",
        "colab": {
          "base_uri": "https://localhost:8080/",
          "height": 79
        }
      },
      "source": [
        "# if you keras is not using tensorflow as backend set \"KERAS_BACKEND=tensorflow\" use this command \n",
        "from keras.utils import np_utils \n",
        "from keras.datasets import mnist \n",
        "import seaborn as sns\n",
        "from keras.initializers import RandomNormal\n",
        "from keras.models import Sequential \n",
        "from keras.layers import Dense, Activation "
      ],
      "execution_count": 3,
      "outputs": [
        {
          "output_type": "stream",
          "text": [
            "Using TensorFlow backend.\n"
          ],
          "name": "stderr"
        },
        {
          "output_type": "display_data",
          "data": {
            "text/html": [
              "<p style=\"color: red;\">\n",
              "The default version of TensorFlow in Colab will soon switch to TensorFlow 2.x.<br>\n",
              "We recommend you <a href=\"https://www.tensorflow.org/guide/migrate\" target=\"_blank\">upgrade</a> now \n",
              "or ensure your notebook will continue to use TensorFlow 1.x via the <code>%tensorflow_version 1.x</code> magic:\n",
              "<a href=\"https://colab.research.google.com/notebooks/tensorflow_version.ipynb\" target=\"_blank\">more info</a>.</p>\n"
            ],
            "text/plain": [
              "<IPython.core.display.HTML object>"
            ]
          },
          "metadata": {
            "tags": []
          }
        }
      ]
    },
    {
      "cell_type": "code",
      "metadata": {
        "id": "lOO-TM_7QKbM",
        "colab_type": "code",
        "colab": {}
      },
      "source": [
        "%matplotlib notebook\n",
        "%matplotlib inline\n",
        "import matplotlib.pyplot as plt\n",
        "import numpy as np\n",
        "import time\n",
        "# https://gist.github.com/greydanus/f6eee59eaf1d90fcb3b534a25362cea4\n",
        "# https://stackoverflow.com/a/14434334\n",
        "# this function is used to update the plots for each epoch and error\n",
        "def plt_dynamic(x, vy, ty, ax, colors=['b']):\n",
        "    ax.plot(x, vy, 'b', label=\"Validation Loss\")\n",
        "    ax.plot(x, ty, 'r', label=\"Train Loss\")\n",
        "    plt.legend()\n",
        "    plt.grid()\n",
        "    fig.canvas.draw()"
      ],
      "execution_count": 0,
      "outputs": []
    },
    {
      "cell_type": "code",
      "metadata": {
        "id": "k2NhYb9691K8",
        "colab_type": "code",
        "colab": {}
      },
      "source": [
        ""
      ],
      "execution_count": 0,
      "outputs": []
    },
    {
      "cell_type": "code",
      "metadata": {
        "id": "H9EU0e8yzFOm",
        "colab_type": "code",
        "outputId": "7ac9793a-3a49-4d4f-dee3-4d95784afbd3",
        "colab": {
          "base_uri": "https://localhost:8080/",
          "height": 1000
        }
      },
      "source": [
        "# Credits: https://github.com/keras-team/keras/blob/master/examples/mnist_cnn.py\n",
        "from __future__ import print_function\n",
        "import keras\n",
        "from keras.datasets import mnist\n",
        "from keras.models import Sequential\n",
        "from keras.layers import Dense, Dropout, Flatten\n",
        "from keras.layers import Conv2D, MaxPooling2D\n",
        "from keras import backend as K\n",
        "\n",
        "batch_size = 128\n",
        "num_classes = 10\n",
        "epochs = 12\n",
        "\n",
        "# input image dimensions\n",
        "img_rows, img_cols = 28, 28\n",
        "\n",
        "# the data, split between train and test sets\n",
        "(x_train, y_train), (x_test, y_test) = mnist.load_data()\n",
        "\n",
        "if K.image_data_format() == 'channels_first':\n",
        "    x_train = x_train.reshape(x_train.shape[0], 1, img_rows, img_cols)\n",
        "    x_test = x_test.reshape(x_test.shape[0], 1, img_rows, img_cols)\n",
        "    input_shape = (1, img_rows, img_cols)\n",
        "else:\n",
        "    x_train = x_train.reshape(x_train.shape[0], img_rows, img_cols, 1)\n",
        "    x_test = x_test.reshape(x_test.shape[0], img_rows, img_cols, 1)\n",
        "    input_shape = (img_rows, img_cols, 1)\n",
        "\n",
        "x_train = x_train.astype('float32')\n",
        "x_test = x_test.astype('float32')\n",
        "x_train /= 255\n",
        "x_test /= 255\n",
        "print('x_train shape:', x_train.shape)\n",
        "print(x_train.shape[0], 'train samples')\n",
        "print(x_test.shape[0], 'test samples')\n",
        "\n",
        "# convert class vectors to binary class matrices\n",
        "y_train = keras.utils.to_categorical(y_train, num_classes)\n",
        "y_test = keras.utils.to_categorical(y_test, num_classes)\n",
        "\n",
        "model = Sequential()\n",
        "model.add(Conv2D(32, kernel_size=(3, 3),\n",
        "                 activation='relu',\n",
        "                 input_shape=input_shape))\n",
        "model.add(Conv2D(64, (3, 3), activation='relu'))\n",
        "model.add(MaxPooling2D(pool_size=(2, 2)))\n",
        "model.add(Dropout(0.25))\n",
        "model.add(Flatten())\n",
        "model.add(Dense(128, activation='relu'))\n",
        "model.add(Dropout(0.5))\n",
        "model.add(Dense(num_classes, activation='softmax'))\n",
        "\n",
        "model.compile(loss=keras.losses.categorical_crossentropy,\n",
        "              optimizer=keras.optimizers.Adadelta(),\n",
        "              metrics=['accuracy'])\n",
        "\n",
        "model.fit(x_train, y_train,\n",
        "          batch_size=batch_size,\n",
        "          epochs=epochs,\n",
        "          verbose=1,\n",
        "          validation_data=(x_test, y_test))\n",
        "score = model.evaluate(x_test, y_test, verbose=0)\n",
        "print('Test loss:', score[0])\n",
        "print('Test accuracy:', score[1])"
      ],
      "execution_count": 5,
      "outputs": [
        {
          "output_type": "stream",
          "text": [
            "Downloading data from https://s3.amazonaws.com/img-datasets/mnist.npz\n",
            "11493376/11490434 [==============================] - 1s 0us/step\n",
            "x_train shape: (60000, 28, 28, 1)\n",
            "60000 train samples\n",
            "10000 test samples\n",
            "WARNING:tensorflow:From /usr/local/lib/python3.6/dist-packages/keras/backend/tensorflow_backend.py:66: The name tf.get_default_graph is deprecated. Please use tf.compat.v1.get_default_graph instead.\n",
            "\n",
            "WARNING:tensorflow:From /usr/local/lib/python3.6/dist-packages/keras/backend/tensorflow_backend.py:541: The name tf.placeholder is deprecated. Please use tf.compat.v1.placeholder instead.\n",
            "\n",
            "WARNING:tensorflow:From /usr/local/lib/python3.6/dist-packages/keras/backend/tensorflow_backend.py:4432: The name tf.random_uniform is deprecated. Please use tf.random.uniform instead.\n",
            "\n",
            "WARNING:tensorflow:From /usr/local/lib/python3.6/dist-packages/keras/backend/tensorflow_backend.py:4267: The name tf.nn.max_pool is deprecated. Please use tf.nn.max_pool2d instead.\n",
            "\n",
            "WARNING:tensorflow:From /usr/local/lib/python3.6/dist-packages/keras/backend/tensorflow_backend.py:148: The name tf.placeholder_with_default is deprecated. Please use tf.compat.v1.placeholder_with_default instead.\n",
            "\n",
            "WARNING:tensorflow:From /usr/local/lib/python3.6/dist-packages/keras/backend/tensorflow_backend.py:3733: calling dropout (from tensorflow.python.ops.nn_ops) with keep_prob is deprecated and will be removed in a future version.\n",
            "Instructions for updating:\n",
            "Please use `rate` instead of `keep_prob`. Rate should be set to `rate = 1 - keep_prob`.\n",
            "WARNING:tensorflow:From /usr/local/lib/python3.6/dist-packages/keras/optimizers.py:793: The name tf.train.Optimizer is deprecated. Please use tf.compat.v1.train.Optimizer instead.\n",
            "\n",
            "WARNING:tensorflow:From /usr/local/lib/python3.6/dist-packages/keras/backend/tensorflow_backend.py:3576: The name tf.log is deprecated. Please use tf.math.log instead.\n",
            "\n",
            "WARNING:tensorflow:From /usr/local/lib/python3.6/dist-packages/tensorflow_core/python/ops/math_grad.py:1424: where (from tensorflow.python.ops.array_ops) is deprecated and will be removed in a future version.\n",
            "Instructions for updating:\n",
            "Use tf.where in 2.0, which has the same broadcast rule as np.where\n",
            "WARNING:tensorflow:From /usr/local/lib/python3.6/dist-packages/keras/backend/tensorflow_backend.py:1033: The name tf.assign_add is deprecated. Please use tf.compat.v1.assign_add instead.\n",
            "\n",
            "WARNING:tensorflow:From /usr/local/lib/python3.6/dist-packages/keras/backend/tensorflow_backend.py:1020: The name tf.assign is deprecated. Please use tf.compat.v1.assign instead.\n",
            "\n",
            "WARNING:tensorflow:From /usr/local/lib/python3.6/dist-packages/keras/backend/tensorflow_backend.py:3005: The name tf.Session is deprecated. Please use tf.compat.v1.Session instead.\n",
            "\n",
            "Train on 60000 samples, validate on 10000 samples\n",
            "Epoch 1/12\n",
            "WARNING:tensorflow:From /usr/local/lib/python3.6/dist-packages/keras/backend/tensorflow_backend.py:190: The name tf.get_default_session is deprecated. Please use tf.compat.v1.get_default_session instead.\n",
            "\n",
            "WARNING:tensorflow:From /usr/local/lib/python3.6/dist-packages/keras/backend/tensorflow_backend.py:197: The name tf.ConfigProto is deprecated. Please use tf.compat.v1.ConfigProto instead.\n",
            "\n",
            "WARNING:tensorflow:From /usr/local/lib/python3.6/dist-packages/keras/backend/tensorflow_backend.py:207: The name tf.global_variables is deprecated. Please use tf.compat.v1.global_variables instead.\n",
            "\n",
            "WARNING:tensorflow:From /usr/local/lib/python3.6/dist-packages/keras/backend/tensorflow_backend.py:216: The name tf.is_variable_initialized is deprecated. Please use tf.compat.v1.is_variable_initialized instead.\n",
            "\n",
            "WARNING:tensorflow:From /usr/local/lib/python3.6/dist-packages/keras/backend/tensorflow_backend.py:223: The name tf.variables_initializer is deprecated. Please use tf.compat.v1.variables_initializer instead.\n",
            "\n",
            "60000/60000 [==============================] - 139s 2ms/step - loss: 0.2830 - acc: 0.9140 - val_loss: 0.0567 - val_acc: 0.9820\n",
            "Epoch 2/12\n",
            "60000/60000 [==============================] - 139s 2ms/step - loss: 0.0944 - acc: 0.9720 - val_loss: 0.0442 - val_acc: 0.9861\n",
            "Epoch 3/12\n",
            "60000/60000 [==============================] - 139s 2ms/step - loss: 0.0696 - acc: 0.9791 - val_loss: 0.0391 - val_acc: 0.9872\n",
            "Epoch 4/12\n",
            "60000/60000 [==============================] - 139s 2ms/step - loss: 0.0592 - acc: 0.9826 - val_loss: 0.0348 - val_acc: 0.9887\n",
            "Epoch 5/12\n",
            "60000/60000 [==============================] - 139s 2ms/step - loss: 0.0501 - acc: 0.9847 - val_loss: 0.0283 - val_acc: 0.9900\n",
            "Epoch 6/12\n",
            "60000/60000 [==============================] - 137s 2ms/step - loss: 0.0454 - acc: 0.9862 - val_loss: 0.0301 - val_acc: 0.9899\n",
            "Epoch 7/12\n",
            "60000/60000 [==============================] - 137s 2ms/step - loss: 0.0420 - acc: 0.9873 - val_loss: 0.0272 - val_acc: 0.9918\n",
            "Epoch 8/12\n",
            "60000/60000 [==============================] - 138s 2ms/step - loss: 0.0375 - acc: 0.9884 - val_loss: 0.0288 - val_acc: 0.9911\n",
            "Epoch 9/12\n",
            "60000/60000 [==============================] - 138s 2ms/step - loss: 0.0355 - acc: 0.9890 - val_loss: 0.0311 - val_acc: 0.9901\n",
            "Epoch 10/12\n",
            "60000/60000 [==============================] - 138s 2ms/step - loss: 0.0338 - acc: 0.9896 - val_loss: 0.0281 - val_acc: 0.9908\n",
            "Epoch 11/12\n",
            "60000/60000 [==============================] - 138s 2ms/step - loss: 0.0300 - acc: 0.9906 - val_loss: 0.0254 - val_acc: 0.9919\n",
            "Epoch 12/12\n",
            "60000/60000 [==============================] - 138s 2ms/step - loss: 0.0282 - acc: 0.9911 - val_loss: 0.0270 - val_acc: 0.9915\n",
            "Test loss: 0.027048864217419758\n",
            "Test accuracy: 0.9915\n"
          ],
          "name": "stdout"
        }
      ]
    },
    {
      "cell_type": "code",
      "metadata": {
        "id": "Egc_3xzUYLzV",
        "colab_type": "code",
        "colab": {}
      },
      "source": [
        ""
      ],
      "execution_count": 0,
      "outputs": []
    },
    {
      "cell_type": "code",
      "metadata": {
        "id": "AqPEsXGVYLuI",
        "colab_type": "code",
        "colab": {}
      },
      "source": [
        ""
      ],
      "execution_count": 0,
      "outputs": []
    },
    {
      "cell_type": "code",
      "metadata": {
        "id": "duRtGT4YYQkY",
        "colab_type": "code",
        "colab": {}
      },
      "source": [
        ""
      ],
      "execution_count": 0,
      "outputs": []
    },
    {
      "cell_type": "markdown",
      "metadata": {
        "id": "HE2W6_KkYN9K",
        "colab_type": "text"
      },
      "source": [
        "## 3-Layered CNN"
      ]
    },
    {
      "cell_type": "code",
      "metadata": {
        "id": "h6-i_kOtsKyj",
        "colab_type": "code",
        "colab": {}
      },
      "source": [
        "nb_epoch=epochs"
      ],
      "execution_count": 0,
      "outputs": []
    },
    {
      "cell_type": "code",
      "metadata": {
        "id": "Ffef0aAKB5c-",
        "colab_type": "code",
        "colab": {
          "base_uri": "https://localhost:8080/",
          "height": 521
        },
        "outputId": "477c29bc-57a1-40b9-a513-541444e997f4"
      },
      "source": [
        "model = Sequential()\n",
        "model.add(Conv2D(32, kernel_size=(3, 3),\n",
        "                 activation='relu', \n",
        "                 input_shape=input_shape))\n",
        "\n",
        "model.add(Conv2D(64, (3, 3), activation='relu'))\n",
        "model.add(MaxPooling2D(pool_size=(2, 2))) \n",
        "model.add(Dropout(0.25))\n",
        "\n",
        "model.add(Conv2D(128, (3, 3), activation='relu'))\n",
        "model.add(MaxPooling2D(pool_size=(2, 2))) \n",
        "model.add(Dropout(0.25))\n",
        "model.add(Flatten())\n",
        "model.add(Dense(128, activation='relu'))\n",
        "model.add(Dropout(0.5))\n",
        "model.add(Dense(num_classes, activation='softmax'))\n",
        "model.summary()"
      ],
      "execution_count": 7,
      "outputs": [
        {
          "output_type": "stream",
          "text": [
            "Model: \"sequential_2\"\n",
            "_________________________________________________________________\n",
            "Layer (type)                 Output Shape              Param #   \n",
            "=================================================================\n",
            "conv2d_3 (Conv2D)            (None, 26, 26, 32)        320       \n",
            "_________________________________________________________________\n",
            "conv2d_4 (Conv2D)            (None, 24, 24, 64)        18496     \n",
            "_________________________________________________________________\n",
            "max_pooling2d_2 (MaxPooling2 (None, 12, 12, 64)        0         \n",
            "_________________________________________________________________\n",
            "dropout_3 (Dropout)          (None, 12, 12, 64)        0         \n",
            "_________________________________________________________________\n",
            "conv2d_5 (Conv2D)            (None, 10, 10, 128)       73856     \n",
            "_________________________________________________________________\n",
            "max_pooling2d_3 (MaxPooling2 (None, 5, 5, 128)         0         \n",
            "_________________________________________________________________\n",
            "dropout_4 (Dropout)          (None, 5, 5, 128)         0         \n",
            "_________________________________________________________________\n",
            "flatten_2 (Flatten)          (None, 3200)              0         \n",
            "_________________________________________________________________\n",
            "dense_3 (Dense)              (None, 128)               409728    \n",
            "_________________________________________________________________\n",
            "dropout_5 (Dropout)          (None, 128)               0         \n",
            "_________________________________________________________________\n",
            "dense_4 (Dense)              (None, 10)                1290      \n",
            "=================================================================\n",
            "Total params: 503,690\n",
            "Trainable params: 503,690\n",
            "Non-trainable params: 0\n",
            "_________________________________________________________________\n"
          ],
          "name": "stdout"
        }
      ]
    },
    {
      "cell_type": "code",
      "metadata": {
        "id": "pDJ5LqS4B5ZE",
        "colab_type": "code",
        "colab": {
          "base_uri": "https://localhost:8080/",
          "height": 470
        },
        "outputId": "a71e3dc7-6e4c-4d7c-d380-490c314a7122"
      },
      "source": [
        "model.compile(loss=keras.losses.categorical_crossentropy,\n",
        "              optimizer=keras.optimizers.Adadelta(),\n",
        "              metrics=['accuracy'])\n",
        "history=model.fit(x_train, y_train,\n",
        "          batch_size=batch_size,\n",
        "          epochs=epochs,\n",
        "          verbose=1,\n",
        "          validation_data=(x_test, y_test))\n",
        "score = model.evaluate(x_test, y_test, verbose=0)\n",
        "print('Test loss:', score[0])\n",
        "print('Test accuracy:', score[1])"
      ],
      "execution_count": 8,
      "outputs": [
        {
          "output_type": "stream",
          "text": [
            "Train on 60000 samples, validate on 10000 samples\n",
            "Epoch 1/12\n",
            "60000/60000 [==============================] - 193s 3ms/step - loss: 0.4483 - acc: 0.8660 - val_loss: 0.1388 - val_acc: 0.9587\n",
            "Epoch 2/12\n",
            "60000/60000 [==============================] - 192s 3ms/step - loss: 0.2542 - acc: 0.9321 - val_loss: 0.1136 - val_acc: 0.9658\n",
            "Epoch 3/12\n",
            "60000/60000 [==============================] - 191s 3ms/step - loss: 0.2226 - acc: 0.9436 - val_loss: 0.0964 - val_acc: 0.9704\n",
            "Epoch 4/12\n",
            "60000/60000 [==============================] - 194s 3ms/step - loss: 0.2214 - acc: 0.9461 - val_loss: 0.0792 - val_acc: 0.9772\n",
            "Epoch 5/12\n",
            "60000/60000 [==============================] - 191s 3ms/step - loss: 0.2153 - acc: 0.9491 - val_loss: 0.0769 - val_acc: 0.9777\n",
            "Epoch 6/12\n",
            "60000/60000 [==============================] - 191s 3ms/step - loss: 0.2184 - acc: 0.9508 - val_loss: 0.0950 - val_acc: 0.9765\n",
            "Epoch 7/12\n",
            "60000/60000 [==============================] - 195s 3ms/step - loss: 0.2109 - acc: 0.9516 - val_loss: 0.0847 - val_acc: 0.9800\n",
            "Epoch 8/12\n",
            "60000/60000 [==============================] - 194s 3ms/step - loss: 0.2081 - acc: 0.9544 - val_loss: 0.0870 - val_acc: 0.9803\n",
            "Epoch 9/12\n",
            "60000/60000 [==============================] - 192s 3ms/step - loss: 0.2129 - acc: 0.9545 - val_loss: 0.0862 - val_acc: 0.9782\n",
            "Epoch 10/12\n",
            "60000/60000 [==============================] - 194s 3ms/step - loss: 0.2078 - acc: 0.9551 - val_loss: 0.1011 - val_acc: 0.9774\n",
            "Epoch 11/12\n",
            "60000/60000 [==============================] - 194s 3ms/step - loss: 0.2148 - acc: 0.9542 - val_loss: 0.0946 - val_acc: 0.9796\n",
            "Epoch 12/12\n",
            "60000/60000 [==============================] - 198s 3ms/step - loss: 0.2270 - acc: 0.9541 - val_loss: 0.0958 - val_acc: 0.9757\n",
            "Test loss: 0.09575681054808083\n",
            "Test accuracy: 0.9757\n"
          ],
          "name": "stdout"
        }
      ]
    },
    {
      "cell_type": "code",
      "metadata": {
        "id": "HJp_9gj-B5Wp",
        "colab_type": "code",
        "colab": {
          "base_uri": "https://localhost:8080/",
          "height": 313
        },
        "outputId": "f82bc40a-c346-4bc0-8445-4403f0b14f7d"
      },
      "source": [
        "score = model.evaluate(x_test, y_test, verbose=0) \n",
        "print('Test score:', score[0]) \n",
        "print('Test accuracy:', score[1])\n",
        "\n",
        "fig,ax = plt.subplots(1,1)\n",
        "ax.set_xlabel('epoch') ; ax.set_ylabel('Categorical Crossentropy Loss') \n",
        "\n",
        "# list of epoch numbers\n",
        "x = list(range(1,nb_epoch+1))\n",
        "\n",
        "vy = history.history['val_loss']\n",
        "ty = history.history['loss']\n",
        "plt_dynamic(x, vy, ty, ax)"
      ],
      "execution_count": 9,
      "outputs": [
        {
          "output_type": "stream",
          "text": [
            "Test score: 0.09575681054808083\n",
            "Test accuracy: 0.9757\n"
          ],
          "name": "stdout"
        },
        {
          "output_type": "display_data",
          "data": {
            "image/png": "[encoded data removed]",
            "text/plain": [
              "<Figure size 432x288 with 1 Axes>"
            ]
          },
          "metadata": {
            "tags": []
          }
        }
      ]
    },
    {
      "cell_type": "code",
      "metadata": {
        "id": "aNWZB6nPB5UE",
        "colab_type": "code",
        "colab": {}
      },
      "source": [
        ""
      ],
      "execution_count": 0,
      "outputs": []
    },
    {
      "cell_type": "code",
      "metadata": {
        "id": "zgbbTgl6B5Rj",
        "colab_type": "code",
        "colab": {}
      },
      "source": [
        ""
      ],
      "execution_count": 0,
      "outputs": []
    },
    {
      "cell_type": "code",
      "metadata": {
        "id": "HFqiQh95Z6Qg",
        "colab_type": "code",
        "colab": {}
      },
      "source": [
        ""
      ],
      "execution_count": 0,
      "outputs": []
    },
    {
      "cell_type": "code",
      "metadata": {
        "id": "bcr88TA9Z6Nk",
        "colab_type": "code",
        "colab": {}
      },
      "source": [
        ""
      ],
      "execution_count": 0,
      "outputs": []
    },
    {
      "cell_type": "code",
      "metadata": {
        "id": "ZkEoqu-FZ55A",
        "colab_type": "code",
        "colab": {}
      },
      "source": [
        "from keras.layers.normalization import BatchNormalization\n"
      ],
      "execution_count": 0,
      "outputs": []
    },
    {
      "cell_type": "markdown",
      "metadata": {
        "id": "z-PO7b0fJqxj",
        "colab_type": "text"
      },
      "source": [
        "## 5-Layered CNN"
      ]
    },
    {
      "cell_type": "code",
      "metadata": {
        "id": "BizKKZVsB5Pd",
        "colab_type": "code",
        "colab": {
          "base_uri": "https://localhost:8080/",
          "height": 806
        },
        "outputId": "662e8288-3b7d-4324-ba92-3c2ccafa842d"
      },
      "source": [
        "model1=Sequential() # Initializing the model\n",
        "\n",
        "# First ConvNet\n",
        "model1.add(Conv2D(32,kernel_size=(5,5),\n",
        "                    activation='relu',\n",
        "                    padding='same',\n",
        "                    input_shape=input_shape))\n",
        "\n",
        "model1.add(Conv2D(64,kernel_size=(5,5),\n",
        "                    padding='same',\n",
        "                    activation='relu'))#Second Convnet\n",
        "model1.add(MaxPooling2D(pool_size=(2,2)))\n",
        "model1.add(Dropout(0.25))\n",
        "\n",
        "model1.add(Conv2D(128,kernel_size=(5,5),\n",
        "                    padding='same',\n",
        "                   activation='relu'))  # 3rd ConvNet\n",
        "#maxpooling by (2,2 ) ,dropout,flattening\n",
        "model1.add(MaxPooling2D(pool_size=(2,2)))\n",
        "model1.add(Dropout(0.25))\n",
        "\n",
        "model1.add(Conv2D(256,kernel_size=(5,5),\n",
        "                    padding='same',\n",
        "                    activation='relu'))#fourth Convnet\n",
        "model1.add(MaxPooling2D(pool_size=(2,2)))\n",
        "model1.add(Dropout(0.25))\n",
        "model1.add(Conv2D(512,kernel_size=(5,5),\n",
        "                    padding='same',\n",
        "                    activation='relu'))#fifth Convnet\n",
        "model1.add(MaxPooling2D(pool_size=(2,2)))\n",
        "model1.add(Dropout(0.25))\n",
        "model1.add(Flatten())\n",
        "\n",
        "#hidden_layer\n",
        "model1.add(Dense(256,\n",
        "                   activation='relu',\n",
        "                   kernel_initializer=RandomNormal(mean=0.0, stddev=0.55, seed=None)))\n",
        "model1.add(BatchNormalization())\n",
        "model1.add(Dropout(0.5))\n",
        "model1.add(Dense(num_classes,activation='softmax'))\n",
        "print(model1.summary())"
      ],
      "execution_count": 11,
      "outputs": [
        {
          "output_type": "stream",
          "text": [
            "WARNING:tensorflow:From /usr/local/lib/python3.6/dist-packages/keras/backend/tensorflow_backend.py:4409: The name tf.random_normal is deprecated. Please use tf.random.normal instead.\n",
            "\n",
            "Model: \"sequential_3\"\n",
            "_________________________________________________________________\n",
            "Layer (type)                 Output Shape              Param #   \n",
            "=================================================================\n",
            "conv2d_6 (Conv2D)            (None, 28, 28, 32)        832       \n",
            "_________________________________________________________________\n",
            "conv2d_7 (Conv2D)            (None, 28, 28, 64)        51264     \n",
            "_________________________________________________________________\n",
            "max_pooling2d_4 (MaxPooling2 (None, 14, 14, 64)        0         \n",
            "_________________________________________________________________\n",
            "dropout_6 (Dropout)          (None, 14, 14, 64)        0         \n",
            "_________________________________________________________________\n",
            "conv2d_8 (Conv2D)            (None, 14, 14, 128)       204928    \n",
            "_________________________________________________________________\n",
            "max_pooling2d_5 (MaxPooling2 (None, 7, 7, 128)         0         \n",
            "_________________________________________________________________\n",
            "dropout_7 (Dropout)          (None, 7, 7, 128)         0         \n",
            "_________________________________________________________________\n",
            "conv2d_9 (Conv2D)            (None, 7, 7, 256)         819456    \n",
            "_________________________________________________________________\n",
            "max_pooling2d_6 (MaxPooling2 (None, 3, 3, 256)         0         \n",
            "_________________________________________________________________\n",
            "dropout_8 (Dropout)          (None, 3, 3, 256)         0         \n",
            "_________________________________________________________________\n",
            "conv2d_10 (Conv2D)           (None, 3, 3, 512)         3277312   \n",
            "_________________________________________________________________\n",
            "max_pooling2d_7 (MaxPooling2 (None, 1, 1, 512)         0         \n",
            "_________________________________________________________________\n",
            "dropout_9 (Dropout)          (None, 1, 1, 512)         0         \n",
            "_________________________________________________________________\n",
            "flatten_3 (Flatten)          (None, 512)               0         \n",
            "_________________________________________________________________\n",
            "dense_5 (Dense)              (None, 256)               131328    \n",
            "_________________________________________________________________\n",
            "batch_normalization_1 (Batch (None, 256)               1024      \n",
            "_________________________________________________________________\n",
            "dropout_10 (Dropout)         (None, 256)               0         \n",
            "_________________________________________________________________\n",
            "dense_6 (Dense)              (None, 10)                2570      \n",
            "=================================================================\n",
            "Total params: 4,488,714\n",
            "Trainable params: 4,488,202\n",
            "Non-trainable params: 512\n",
            "_________________________________________________________________\n",
            "None\n"
          ],
          "name": "stdout"
        }
      ]
    },
    {
      "cell_type": "code",
      "metadata": {
        "id": "TxPvtX0XB5M4",
        "colab_type": "code",
        "colab": {}
      },
      "source": [
        "nb_epoch=epochs"
      ],
      "execution_count": 0,
      "outputs": []
    },
    {
      "cell_type": "code",
      "metadata": {
        "id": "EYWFvZXwB5KS",
        "colab_type": "code",
        "colab": {
          "base_uri": "https://localhost:8080/",
          "height": 924
        },
        "outputId": "2cba7d27-74de-425a-ccd7-c492275f2a81"
      },
      "source": [
        "model1.compile(loss=keras.losses.categorical_crossentropy,\n",
        "              optimizer=keras.optimizers.Adadelta(),\n",
        "              metrics=['accuracy'])\n",
        "history=model1.fit(x_train, y_train,\n",
        "          batch_size=batch_size,\n",
        "          epochs=epochs,\n",
        "          verbose=1,\n",
        "          validation_data=(x_test, y_test))\n",
        "score = model1.evaluate(x_test, y_test, verbose=0)\n",
        "print('Test loss:', score[0])\n",
        "print('Test accuracy:', score[1])"
      ],
      "execution_count": 13,
      "outputs": [
        {
          "output_type": "stream",
          "text": [
            "Train on 60000 samples, validate on 10000 samples\n",
            "Epoch 1/12\n",
            "60000/60000 [==============================] - 1603s 27ms/step - loss: 2.2639 - acc: 0.2380 - val_loss: 1.7023 - val_acc: 0.3878\n",
            "Epoch 2/12\n",
            "59904/60000 [============================>.] - ETA: 2s - loss: 1.2122 - acc: 0.5656Train on 60000 samples, validate on 10000 samples\n",
            "Epoch 1/12\n",
            "60000/60000 [==============================] - 1603s 27ms/step - loss: 2.2639 - acc: 0.2380 - val_loss: 1.7023 - val_acc: 0.3878\n",
            "Epoch 2/12\n",
            "60000/60000 [==============================] - 1613s 27ms/step - loss: 1.2117 - acc: 0.5659 - val_loss: 0.7741 - val_acc: 0.7540\n",
            "60000/60000 [==============================] - 1613s 27ms/step - loss: 1.2117 - acc: 0.5659 - val_loss: 0.7741 - val_acc: 0.7540\n",
            "Epoch 3/12\n",
            "Epoch 3/12\n",
            "60000/60000 [==============================] - 1629s 27ms/step - loss: 0.8645 - acc: 0.7047 - val_loss: 0.5902 - val_acc: 0.7989\n",
            "60000/60000 [==============================] - 1629s 27ms/step - loss: 0.8645 - acc: 0.7047 - val_loss: 0.5902 - val_acc: 0.7989\n",
            "Epoch 4/12\n",
            "Epoch 4/12\n",
            "60000/60000 [==============================] - 1633s 27ms/step - loss: 0.7399 - acc: 0.7510 - val_loss: 0.4974 - val_acc: 0.8326\n",
            "60000/60000 [==============================] - 1633s 27ms/step - loss: 0.7399 - acc: 0.7510 - val_loss: 0.4974 - val_acc: 0.8326\n",
            "Epoch 5/12\n",
            "Epoch 5/12\n",
            "60000/60000 [==============================] - 1635s 27ms/step - loss: 0.6501 - acc: 0.7829 - val_loss: 0.4692 - val_acc: 0.8447\n",
            "60000/60000 [==============================] - 1635s 27ms/step - loss: 0.6501 - acc: 0.7829 - val_loss: 0.4692 - val_acc: 0.8447\n",
            "Epoch 6/12\n",
            "Epoch 6/12\n",
            "60000/60000 [==============================] - 1658s 28ms/step - loss: 0.5952 - acc: 0.8059 - val_loss: 0.3848 - val_acc: 0.8728\n",
            "60000/60000 [==============================] - 1658s 28ms/step - loss: 0.5952 - acc: 0.8059 - val_loss: 0.3848 - val_acc: 0.8728\n",
            "Epoch 7/12\n",
            "Epoch 7/12\n",
            "60000/60000 [==============================] - 1643s 27ms/step - loss: 0.5630 - acc: 0.8168 - val_loss: 0.3722 - val_acc: 0.8774\n",
            "60000/60000 [==============================] - 1643s 27ms/step - loss: 0.5630 - acc: 0.8168 - val_loss: 0.3722 - val_acc: 0.8774\n",
            "Epoch 8/12\n",
            "Epoch 8/12\n",
            "60000/60000 [==============================] - 1629s 27ms/step - loss: 0.5257 - acc: 0.8292 - val_loss: 0.3591 - val_acc: 0.8803\n",
            "60000/60000 [==============================] - 1629s 27ms/step - loss: 0.5257 - acc: 0.8292 - val_loss: 0.3591 - val_acc: 0.8803\n",
            "Epoch 9/12\n",
            "Epoch 9/12\n",
            "60000/60000 [==============================] - 1640s 27ms/step - loss: 0.5093 - acc: 0.8352 - val_loss: 0.3466 - val_acc: 0.8874\n",
            "60000/60000 [==============================] - 1640s 27ms/step - loss: 0.5093 - acc: 0.8352 - val_loss: 0.3466 - val_acc: 0.8874\n",
            "Epoch 10/12\n",
            "Epoch 10/12\n",
            "60000/60000 [==============================] - 1642s 27ms/step - loss: 0.4899 - acc: 0.8425 - val_loss: 0.3310 - val_acc: 0.8908\n",
            "60000/60000 [==============================] - 1642s 27ms/step - loss: 0.4899 - acc: 0.8425 - val_loss: 0.3310 - val_acc: 0.8908\n",
            "Epoch 11/12\n",
            "Epoch 11/12\n",
            "60000/60000 [==============================] - 1637s 27ms/step - loss: 0.4764 - acc: 0.8487 - val_loss: 0.3410 - val_acc: 0.8884\n",
            "60000/60000 [==============================] - 1637s 27ms/step - loss: 0.4764 - acc: 0.8487 - val_loss: 0.3410 - val_acc: 0.8884\n",
            "Epoch 12/12\n",
            "Epoch 12/12\n",
            "60000/60000 [==============================] - 1646s 27ms/step - loss: 0.4612 - acc: 0.8522 - val_loss: 0.3250 - val_acc: 0.8912\n",
            "60000/60000 [==============================] - 1646s 27ms/step - loss: 0.4612 - acc: 0.8522 - val_loss: 0.3250 - val_acc: 0.8912\n",
            "Test loss: 0.32503178759813306\n",
            "Test accuracy: 0.8912\n",
            "Test loss: 0.32503178759813306\n",
            "Test accuracy: 0.8912\n"
          ],
          "name": "stdout"
        }
      ]
    },
    {
      "cell_type": "code",
      "metadata": {
        "id": "YBZ3eZJ-B5IL",
        "colab_type": "code",
        "colab": {
          "base_uri": "https://localhost:8080/",
          "height": 1000
        },
        "outputId": "cc4091c9-0f49-4b16-95d0-76c025b65f77"
      },
      "source": [
        "score = model1.evaluate(x_test, y_test, verbose=0) \n",
        "print('Test score:', score[0]) \n",
        "print('Test accuracy:', score[1])\n",
        "\n",
        "fig,ax = plt.subplots(1,1)\n",
        "ax.set_xlabel('epoch') ; ax.set_ylabel('Categorical Crossentropy Loss')\n",
        "\n",
        "# list of epoch numbers\n",
        "x = list(range(1,nb_epoch+1))\n",
        "\n",
        "vy = history.history['val_loss']\n",
        "ty = history.history['loss']\n",
        "plt_dynamic(x, vy, ty, ax)"
      ],
      "execution_count": 14,
      "outputs": [
        {
          "output_type": "stream",
          "text": [
            "Test score: 0.32503178759813306\n",
            "Test accuracy: 0.8912\n",
            "Test score: 0.32503178759813306\n",
            "Test accuracy: 0.8912\n",
            "Test score: 0.32503178759813306\n",
            "Test accuracy: 0.8912\n",
            "Test score: 0.32503178759813306\n",
            "Test accuracy: 0.8912\n",
            "Test score: 0.32503178759813306\n",
            "Test accuracy: 0.8912\n",
            "Test score: 0.32503178759813306\n",
            "Test accuracy: 0.8912\n"
          ],
          "name": "stdout"
        },
        {
          "output_type": "display_data",
          "data": {
            "image/png": "[encoded data removed]",
            "text/plain": [
              "<Figure size 432x288 with 1 Axes>"
            ]
          },
          "metadata": {
            "tags": []
          }
        },
        {
          "output_type": "display_data",
          "data": {
            "image/png": "[encoded data removed]",
            "text/plain": [
              "<Figure size 432x288 with 1 Axes>"
            ]
          },
          "metadata": {
            "tags": []
          }
        },
        {
          "output_type": "display_data",
          "data": {
            "image/png": "[encoded data removed]",
            "text/plain": [
              "<Figure size 432x288 with 1 Axes>"
            ]
          },
          "metadata": {
            "tags": []
          }
        },
        {
          "output_type": "display_data",
          "data": {
            "image/png": "[encoded data removed]",
            "text/plain": [
              "<Figure size 432x288 with 1 Axes>"
            ]
          },
          "metadata": {
            "tags": []
          }
        },
        {
          "output_type": "display_data",
          "data": {
            "image/png": "[encoded data removed]",
            "text/plain": [
              "<Figure size 432x288 with 1 Axes>"
            ]
          },
          "metadata": {
            "tags": []
          }
        },
        {
          "output_type": "display_data",
          "data": {
            "image/png": "[encoded data removed]",
            "text/plain": [
              "<Figure size 432x288 with 1 Axes>"
            ]
          },
          "metadata": {
            "tags": []
          }
        }
      ]
    },
    {
      "cell_type": "code",
      "metadata": {
        "id": "Wep6ANprB5Fn",
        "colab_type": "code",
        "colab": {}
      },
      "source": [
        ""
      ],
      "execution_count": 0,
      "outputs": []
    },
    {
      "cell_type": "code",
      "metadata": {
        "id": "qnWKvGJDB5DQ",
        "colab_type": "code",
        "colab": {}
      },
      "source": [
        ""
      ],
      "execution_count": 0,
      "outputs": []
    },
    {
      "cell_type": "code",
      "metadata": {
        "id": "sYNANxPoB5Az",
        "colab_type": "code",
        "colab": {}
      },
      "source": [
        "from keras.initializers import he_normal\n"
      ],
      "execution_count": 0,
      "outputs": []
    },
    {
      "cell_type": "markdown",
      "metadata": {
        "id": "Ztf-2EIANIVd",
        "colab_type": "text"
      },
      "source": [
        "## 7-Layered CNN"
      ]
    },
    {
      "cell_type": "code",
      "metadata": {
        "id": "kadcGyTkB4-J",
        "colab_type": "code",
        "colab": {
          "base_uri": "https://localhost:8080/",
          "height": 1000
        },
        "outputId": "97eeb2b6-2c49-4c06-f627-67795016e9a2"
      },
      "source": [
        "model7=Sequential() # Initializing the model\n",
        "\n",
        "# First ConvNet\n",
        "model7.add(Conv2D(16,kernel_size=(2,2),\n",
        "                    activation='relu',\n",
        "                    padding='same',strides=(1,1),\n",
        "                    input_shape=input_shape))\n",
        "\n",
        "\n",
        "model7.add(Conv2D(32,kernel_size=(2,2),\n",
        "                    padding='same',strides=(2,2),\n",
        "                    activation='relu'))#Second Convnet\n",
        "#model7.add(MaxPooling2D(pool_size=(2,2)))\n",
        "#model7.add(Dropout(0.25))\n",
        "\n",
        "model7.add(Conv2D(64,kernel_size=(2,2),\n",
        "                    padding='same',\n",
        "                   activation='relu'))  # 3rd ConvNet\n",
        "#maxpooling by (2,2 ) ,dropout,flattening\n",
        "#model7.add(MaxPooling2D(pool_size=(2,2)))\n",
        "model7.add(Dropout(0.15))\n",
        "\n",
        "model7.add(Conv2D(96,kernel_size=(2,2),\n",
        "                    padding='same',\n",
        "                    activation='relu'))#fourth Convnet\n",
        "model7.add(MaxPooling2D(pool_size=(2,2)))\n",
        "model7.add(Dropout(0.39))\n",
        "model7.add(Conv2D(128,kernel_size=(2,2),\n",
        "                    padding='same',\n",
        "                    activation='relu'))#fifth Convnet\n",
        "model7.add(MaxPooling2D(pool_size=(2,2)))\n",
        "model7.add(Dropout(0.3))\n",
        "model7.add(Conv2D(164,kernel_size=(2,2),\n",
        "                    padding='same',\n",
        "                    activation='relu'))#sixth Convnet\n",
        "model7.add(Conv2D(164,kernel_size=(2,2),\n",
        "                    padding='same',strides=(1,1),\n",
        "                    activation='relu'))#seventh Convnet\n",
        "\n",
        "model7.add(MaxPooling2D(pool_size=(2,2)))\n",
        "model7.add(Dropout(0.4))\n",
        "model7.add(Flatten())\n",
        "\n",
        "#hidden_layer\n",
        "model7.add(Dense(256,\n",
        "                   activation='relu',\n",
        "                   kernel_initializer=RandomNormal(mean=0.0, stddev=0.55, seed=None)))#1 hidden layer\n",
        "model7.add(BatchNormalization())\n",
        "model7.add(Dropout(0.5))\n",
        "model7.add(Dense(148,\n",
        "                   activation='relu',\n",
        "                   kernel_initializer=RandomNormal(mean=0.0, stddev=0.4, seed=None)))#2 hidden layer\n",
        "model7.add(BatchNormalization())\n",
        "model7.add(Dropout(0.5))\n",
        "model7.add(Dense(128,\n",
        "                   activation='relu',\n",
        "                  kernel_initializer=RandomNormal(mean=0.0, stddev=0.58, seed=None)))#3 hidden layer\n",
        "model7.add(BatchNormalization())\n",
        "model7.add(Dropout(0.5))\n",
        "model7.add(Dense(num_classes,activation='softmax'))\n",
        "print(model7.summary())\n"
      ],
      "execution_count": 20,
      "outputs": [
        {
          "output_type": "stream",
          "text": [
            "Model: \"sequential_6\"\n",
            "_________________________________________________________________\n",
            "Layer (type)                 Output Shape              Param #   \n",
            "=================================================================\n",
            "conv2d_25 (Conv2D)           (None, 28, 28, 16)        80        \n",
            "_________________________________________________________________\n",
            "conv2d_26 (Conv2D)           (None, 14, 14, 32)        2080      \n",
            "_________________________________________________________________\n",
            "conv2d_27 (Conv2D)           (None, 14, 14, 64)        8256      \n",
            "_________________________________________________________________\n",
            "dropout_22 (Dropout)         (None, 14, 14, 64)        0         \n",
            "_________________________________________________________________\n",
            "conv2d_28 (Conv2D)           (None, 14, 14, 96)        24672     \n",
            "_________________________________________________________________\n",
            "max_pooling2d_14 (MaxPooling (None, 7, 7, 96)          0         \n",
            "_________________________________________________________________\n",
            "dropout_23 (Dropout)         (None, 7, 7, 96)          0         \n",
            "_________________________________________________________________\n",
            "conv2d_29 (Conv2D)           (None, 7, 7, 128)         49280     \n",
            "_________________________________________________________________\n",
            "max_pooling2d_15 (MaxPooling (None, 3, 3, 128)         0         \n",
            "_________________________________________________________________\n",
            "dropout_24 (Dropout)         (None, 3, 3, 128)         0         \n",
            "_________________________________________________________________\n",
            "conv2d_30 (Conv2D)           (None, 3, 3, 164)         84132     \n",
            "_________________________________________________________________\n",
            "conv2d_31 (Conv2D)           (None, 3, 3, 164)         107748    \n",
            "_________________________________________________________________\n",
            "max_pooling2d_16 (MaxPooling (None, 1, 1, 164)         0         \n",
            "_________________________________________________________________\n",
            "dropout_25 (Dropout)         (None, 1, 1, 164)         0         \n",
            "_________________________________________________________________\n",
            "flatten_6 (Flatten)          (None, 164)               0         \n",
            "_________________________________________________________________\n",
            "dense_11 (Dense)             (None, 256)               42240     \n",
            "_________________________________________________________________\n",
            "batch_normalization_5 (Batch (None, 256)               1024      \n",
            "_________________________________________________________________\n",
            "dropout_26 (Dropout)         (None, 256)               0         \n",
            "_________________________________________________________________\n",
            "dense_12 (Dense)             (None, 148)               38036     \n",
            "_________________________________________________________________\n",
            "batch_normalization_6 (Batch (None, 148)               592       \n",
            "_________________________________________________________________\n",
            "dropout_27 (Dropout)         (None, 148)               0         \n",
            "_________________________________________________________________\n",
            "dense_13 (Dense)             (None, 128)               19072     \n",
            "_________________________________________________________________\n",
            "batch_normalization_7 (Batch (None, 128)               512       \n",
            "_________________________________________________________________\n",
            "dropout_28 (Dropout)         (None, 128)               0         \n",
            "_________________________________________________________________\n",
            "dense_14 (Dense)             (None, 10)                1290      \n",
            "=================================================================\n",
            "Total params: 379,014\n",
            "Trainable params: 377,950\n",
            "Non-trainable params: 1,064\n",
            "_________________________________________________________________\n",
            "None\n"
          ],
          "name": "stdout"
        }
      ]
    },
    {
      "cell_type": "code",
      "metadata": {
        "id": "kTYU6AszB47w",
        "colab_type": "code",
        "colab": {
          "base_uri": "https://localhost:8080/",
          "height": 470
        },
        "outputId": "676760f9-3535-4c88-ec4f-b235dce84ffa"
      },
      "source": [
        "model7.compile(loss=keras.losses.categorical_crossentropy,\n",
        "              optimizer=keras.optimizers.Adadelta(),\n",
        "              metrics=['accuracy'])\n",
        "history=model7.fit(x_train, y_train,\n",
        "          batch_size=batch_size,\n",
        "          epochs=epochs,\n",
        "          verbose=1,\n",
        "          validation_data=(x_test, y_test))\n",
        "score = model.evaluate(x_test, y_test, verbose=0)\n",
        "print('Test loss:', score[0])\n",
        "print('Test accuracy:', score[1])\n",
        "\n"
      ],
      "execution_count": 21,
      "outputs": [
        {
          "output_type": "stream",
          "text": [
            "Train on 60000 samples, validate on 10000 samples\n",
            "Epoch 1/12\n",
            "60000/60000 [==============================] - 139s 2ms/step - loss: 2.5590 - acc: 0.1444 - val_loss: 2.2081 - val_acc: 0.1513\n",
            "Epoch 2/12\n",
            "60000/60000 [==============================] - 136s 2ms/step - loss: 1.7260 - acc: 0.3351 - val_loss: 1.2023 - val_acc: 0.5579\n",
            "Epoch 3/12\n",
            "60000/60000 [==============================] - 138s 2ms/step - loss: 1.1965 - acc: 0.5705 - val_loss: 0.6982 - val_acc: 0.7830\n",
            "Epoch 4/12\n",
            "60000/60000 [==============================] - 138s 2ms/step - loss: 0.8984 - acc: 0.7021 - val_loss: 0.5069 - val_acc: 0.8267\n",
            "Epoch 5/12\n",
            "60000/60000 [==============================] - 138s 2ms/step - loss: 0.7502 - acc: 0.7632 - val_loss: 0.4341 - val_acc: 0.8462\n",
            "Epoch 6/12\n",
            "60000/60000 [==============================] - 135s 2ms/step - loss: 0.6602 - acc: 0.7950 - val_loss: 0.3656 - val_acc: 0.8845\n",
            "Epoch 7/12\n",
            "60000/60000 [==============================] - 134s 2ms/step - loss: 0.6003 - acc: 0.8143 - val_loss: 0.3462 - val_acc: 0.8924\n",
            "Epoch 8/12\n",
            "60000/60000 [==============================] - 133s 2ms/step - loss: 0.5575 - acc: 0.8325 - val_loss: 0.3393 - val_acc: 0.9020\n",
            "Epoch 9/12\n",
            "60000/60000 [==============================] - 134s 2ms/step - loss: 0.5257 - acc: 0.8436 - val_loss: 0.3161 - val_acc: 0.9037\n",
            "Epoch 10/12\n",
            "60000/60000 [==============================] - 136s 2ms/step - loss: 0.4997 - acc: 0.8526 - val_loss: 0.2770 - val_acc: 0.9187\n",
            "Epoch 11/12\n",
            "60000/60000 [==============================] - 138s 2ms/step - loss: 0.4810 - acc: 0.8593 - val_loss: 0.2763 - val_acc: 0.9181\n",
            "Epoch 12/12\n",
            "60000/60000 [==============================] - 139s 2ms/step - loss: 0.4590 - acc: 0.8672 - val_loss: 0.2790 - val_acc: 0.9163\n",
            "Test loss: 0.09575681054808083\n",
            "Test accuracy: 0.9757\n"
          ],
          "name": "stdout"
        }
      ]
    },
    {
      "cell_type": "code",
      "metadata": {
        "id": "Jq8QqGPRB45K",
        "colab_type": "code",
        "colab": {
          "base_uri": "https://localhost:8080/",
          "height": 279
        },
        "outputId": "d2eed78b-7354-4a35-ce05-dd2309216b3b"
      },
      "source": [
        "\n",
        "fig,ax = plt.subplots(1,1)\n",
        "ax.set_xlabel('epoch') ; ax.set_ylabel('Categorical Crossentropy Loss')\n",
        "\n",
        "# list of epoch numbers\n",
        "x = list(range(1,nb_epoch+1))\n",
        "\n",
        "vy = history.history['val_loss']\n",
        "ty = history.history['loss']\n",
        "plt_dynamic(x, vy, ty, ax)"
      ],
      "execution_count": 23,
      "outputs": [
        {
          "output_type": "display_data",
          "data": {
            "image/png": "[encoded data removed]",
            "text/plain": [
              "<Figure size 432x288 with 1 Axes>"
            ]
          },
          "metadata": {
            "tags": []
          }
        }
      ]
    },
    {
      "cell_type": "code",
      "metadata": {
        "id": "g63WvtcQB43A",
        "colab_type": "code",
        "colab": {}
      },
      "source": [
        ""
      ],
      "execution_count": 0,
      "outputs": []
    },
    {
      "cell_type": "markdown",
      "metadata": {
        "id": "5_0vCL6GzWiz",
        "colab_type": "text"
      },
      "source": [
        "## Conclusion"
      ]
    },
    {
      "cell_type": "code",
      "metadata": {
        "id": "2TvCfrUpB40f",
        "colab_type": "code",
        "colab": {}
      },
      "source": [
        "from prettytable import PrettyTable"
      ],
      "execution_count": 0,
      "outputs": []
    },
    {
      "cell_type": "code",
      "metadata": {
        "id": "g9HpJmFgB4yK",
        "colab_type": "code",
        "colab": {
          "base_uri": "https://localhost:8080/",
          "height": 134
        },
        "outputId": "ce5a35ec-cc7c-4666-cb91-571f222c179d"
      },
      "source": [
        "x=PrettyTable()\n",
        "\n",
        "x.field_names=(['No of layers','Test Score','Accuracy'])\n",
        "\n",
        "x.add_row(['3-Layered CNN',0.095,0.975])\n",
        "x.add_row(['5-Layered CNN',0.3,0.891])\n",
        "x.add_row(['7-Layered CNN',0.09,0.975])\n",
        "\n",
        "print(x)"
      ],
      "execution_count": 27,
      "outputs": [
        {
          "output_type": "stream",
          "text": [
            "+---------------+------------+----------+\n",
            "|  No of layers | Test Score | Accuracy |\n",
            "+---------------+------------+----------+\n",
            "| 3-Layered CNN |   0.095    |  0.975   |\n",
            "| 5-Layered CNN |    0.3     |  0.891   |\n",
            "| 7-Layered CNN |    0.09    |  0.975   |\n",
            "+---------------+------------+----------+\n"
          ],
          "name": "stdout"
        }
      ]
    },
    {
      "cell_type": "markdown",
      "metadata": {
        "id": "Gf3Ywyf47zi2",
        "colab_type": "text"
      },
      "source": [
        "**We can conclude that by using Convolution Neural Network, the accuracy by using 3 layered and 7 layered shown well comparedd to 5-Layered CNN**"
      ]
    },
    {
      "cell_type": "code",
      "metadata": {
        "id": "g1hRUzjOB4tC",
        "colab_type": "code",
        "colab": {}
      },
      "source": [
        ""
      ],
      "execution_count": 0,
      "outputs": []
    },
    {
      "cell_type": "code",
      "metadata": {
        "id": "Hcw5-eepB4rK",
        "colab_type": "code",
        "colab": {}
      },
      "source": [
        ""
      ],
      "execution_count": 0,
      "outputs": []
    },
    {
      "cell_type": "code",
      "metadata": {
        "id": "_inP9PoeB4o4",
        "colab_type": "code",
        "colab": {}
      },
      "source": [
        ""
      ],
      "execution_count": 0,
      "outputs": []
    }
  ]
}